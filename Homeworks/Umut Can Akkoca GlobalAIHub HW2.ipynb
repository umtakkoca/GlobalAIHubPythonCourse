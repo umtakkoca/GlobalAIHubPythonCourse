{
 "cells": [
  {
   "cell_type": "code",
   "execution_count": 21,
   "metadata": {},
   "outputs": [],
   "source": [
    "cv1 = {\"Ad\":\"Umut Can\", \"Soyad\":\"Akkoca\", \"Yaş\":22, \"Bölüm\":\"İstatistik\", \"Eğitim Seviyesi\":\"Lisans\", \"İstediği Pozisyon\":\"Data Analyst\", \"Bildiği Programlar\":\"R, Python, C\"}\n",
    "cv2 = {\"Ad\":\"Barış\", \"Soyad\":\"Esen\", \"Yaş\":26, \"Bölüm\":\"Bilgisayar Öğretmenliği\", \"Eğitim Seviyesi\":\"Yüksek Lisans\", \"İstediği Pozisyon\":\"Bilgisayar Öğretmenliği\", \"Bildiği Programlar\":\"C#, C, C++, Python\"}\n",
    "cv3 = {\"Ad\":\"Esin\", \"Soyad\":\"Albakır\", \"Yaş\":24, \"Bölüm\":\"Felsefe\", \"Eğitim Seviyesi\":\"Yüksek Lisans\", \"İstediği Pozisyon\":\"İnsan Kaynakları\", \"Bildiği Programlar\":\"-\"}\n",
    "cv4 = {\"Ad\":\"Çağatay\", \"Soyad\":\"Dereköy\", \"Yaş\":36, \"Bölüm\":\"Fizik Mühendisliği\", \"Eğitim Seviyesi\":\"Lisans\", \"İstediği Pozisyon\":\"Yazılımcı\", \"Bildiği Programlar\":\"Python, C, C#, C++, Java\"}\n",
    "cv5 = {\"Ad\":\"Görkem\", \"Soyad\":\"Ünal\", \"Yaş\":22, \"Bölüm\":\"Hukuk\", \"Eğitim Seviyesi\":\"Lisans\", \"İstediği Pozisyon\":\"Avukat\", \"Bildiği Programlar\":\"-\"}"
   ]
  },
  {
   "cell_type": "code",
   "execution_count": 22,
   "metadata": {},
   "outputs": [
    {
     "data": {
      "text/plain": [
       "{'Ad': 'Umut Can',\n",
       " 'Soyad': 'Akkoca',\n",
       " 'Yaş': 22,\n",
       " 'Bölüm': 'İstatistik',\n",
       " 'Eğitim Seviyesi': 'Lisans',\n",
       " 'İstediği Pozisyon': 'Data Analyst',\n",
       " 'Bildiği Programlar': 'R, Python, C'}"
      ]
     },
     "execution_count": 22,
     "metadata": {},
     "output_type": "execute_result"
    }
   ],
   "source": [
    "cv1"
   ]
  },
  {
   "cell_type": "code",
   "execution_count": 23,
   "metadata": {},
   "outputs": [
    {
     "data": {
      "text/plain": [
       "{'Ad': 'Barış',\n",
       " 'Soyad': 'Esen',\n",
       " 'Yaş': 26,\n",
       " 'Bölüm': 'Bilgisayar Öğretmenliği',\n",
       " 'Eğitim Seviyesi': 'Yüksek Lisans',\n",
       " 'İstediği Pozisyon': 'Bilgisayar Öğretmenliği',\n",
       " 'Bildiği Programlar': 'C#, C, C++, Python'}"
      ]
     },
     "execution_count": 23,
     "metadata": {},
     "output_type": "execute_result"
    }
   ],
   "source": [
    "cv2"
   ]
  },
  {
   "cell_type": "code",
   "execution_count": 24,
   "metadata": {},
   "outputs": [
    {
     "data": {
      "text/plain": [
       "{'Ad': 'Esin',\n",
       " 'Soyad': 'Albakır',\n",
       " 'Yaş': 24,\n",
       " 'Bölüm': 'Felsefe',\n",
       " 'Eğitim Seviyesi': 'Yüksek Lisans',\n",
       " 'İstediği Pozisyon': 'İnsan Kaynakları',\n",
       " 'Bildiği Programlar': '-'}"
      ]
     },
     "execution_count": 24,
     "metadata": {},
     "output_type": "execute_result"
    }
   ],
   "source": [
    "cv3"
   ]
  },
  {
   "cell_type": "code",
   "execution_count": 25,
   "metadata": {},
   "outputs": [
    {
     "data": {
      "text/plain": [
       "{'Ad': 'Çağatay',\n",
       " 'Soyad': 'Dereköy',\n",
       " 'Yaş': 36,\n",
       " 'Bölüm': 'Fizik Mühendisliği',\n",
       " 'Eğitim Seviyesi': 'Lisans',\n",
       " 'İstediği Pozisyon': 'Yazılımcı',\n",
       " 'Bildiği Programlar': 'Python, C, C#, C++, Java'}"
      ]
     },
     "execution_count": 25,
     "metadata": {},
     "output_type": "execute_result"
    }
   ],
   "source": [
    "cv4"
   ]
  },
  {
   "cell_type": "code",
   "execution_count": 26,
   "metadata": {},
   "outputs": [
    {
     "data": {
      "text/plain": [
       "{'Ad': 'Görkem',\n",
       " 'Soyad': 'Ünal',\n",
       " 'Yaş': 22,\n",
       " 'Bölüm': 'Hukuk',\n",
       " 'Eğitim Seviyesi': 'Lisans',\n",
       " 'İstediği Pozisyon': 'Avukat',\n",
       " 'Bildiği Programlar': '-'}"
      ]
     },
     "execution_count": 26,
     "metadata": {},
     "output_type": "execute_result"
    }
   ],
   "source": [
    "cv5"
   ]
  },
  {
   "cell_type": "code",
   "execution_count": null,
   "metadata": {},
   "outputs": [],
   "source": []
  }
 ],
 "metadata": {
  "kernelspec": {
   "display_name": "Python 3",
   "language": "python",
   "name": "python3"
  },
  "language_info": {
   "codemirror_mode": {
    "name": "ipython",
    "version": 3
   },
   "file_extension": ".py",
   "mimetype": "text/x-python",
   "name": "python",
   "nbconvert_exporter": "python",
   "pygments_lexer": "ipython3",
   "version": "3.8.5"
  }
 },
 "nbformat": 4,
 "nbformat_minor": 4
}
