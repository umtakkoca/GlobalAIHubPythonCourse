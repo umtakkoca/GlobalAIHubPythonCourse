{
 "cells": [
  {
   "cell_type": "code",
   "execution_count": 7,
   "metadata": {},
   "outputs": [
    {
     "name": "stdout",
     "output_type": "stream",
     "text": [
      "Öğrenci Adı-Soyadı: Umut Can Akkoca\n",
      "Midterm: 80\n",
      "Project: 80\n",
      "Final: 70\n",
      "Öğrenci Adı-Soyadı: Barış Esen\n",
      "Midterm: 55\n",
      "Project: 62\n",
      "Final: 80\n",
      "Öğrenci Adı-Soyadı: Esin Albakır\n",
      "Midterm: 70\n",
      "Project: 40\n",
      "Final: 100\n",
      "Öğrenci Adı-Soyadı: Görkem Ünal\n",
      "Midterm: 50\n",
      "Project: 20\n",
      "Final: 80\n",
      "Öğrenci Adı-Soyadı: Elif Aydın\n",
      "Midterm: 20\n",
      "Project: 50\n",
      "Final: 50\n"
     ]
    }
   ],
   "source": [
    "#Create 5 students. Ask these students from the user. \n",
    "#Each of these students should have a midterm grade, project grade, and a final grade.\n",
    "#Each student will have a course passing grade.\n",
    "#Passing grade = midterm*(0.3) + project*(0.3) + final*(0.4) passing grade should be determined like this.\n",
    "\n",
    "student = 0\n",
    "\n",
    "while True:\n",
    "    ad = input(\"Öğrenci Adı-Soyadı: \")\n",
    "    midterm = int(input(\"Midterm: \"))\n",
    "    project = int(input(\"Project: \"))\n",
    "    final = int(input(\"Final: \"))\n",
    "    \n",
    "    student += 1\n",
    "    \n",
    "    if student == 5:\n",
    "        break"
   ]
  },
  {
   "cell_type": "code",
   "execution_count": 34,
   "metadata": {},
   "outputs": [],
   "source": [
    "#Create a dictionary that keeps students' information.\n",
    "\n",
    "students = {\"Umut Can Akkoca\":[80,80,70], \n",
    "           \"Barış Esen\":[55,62,80],\n",
    "           \"Esin Albakır\":[70,40,100],\n",
    "           \"Görkem Ünal\":[50,20,80],\n",
    "           \"Elif Aydın\":[20,50,50]}"
   ]
  },
  {
   "cell_type": "code",
   "execution_count": 35,
   "metadata": {},
   "outputs": [
    {
     "data": {
      "text/plain": [
       "[76.0, 73.0, 67.1, 53.0, 41.0]"
      ]
     },
     "execution_count": 35,
     "metadata": {},
     "output_type": "execute_result"
    }
   ],
   "source": [
    "#Calculate the students' grades and transfer them to the list with the help of indexing.\n",
    "#Finally, set the student with the highest grade to be in the first index and the student with the lowest grade to be in the last index of the list.\n",
    "\n",
    "grade1 = students[\"Umut Can Akkoca\"][0]*(0.3) + students[\"Umut Can Akkoca\"][1]*(0.3) + students[\"Umut Can Akkoca\"][2]*(0.4)\n",
    "grade2 = students[\"Barış Esen\"][0]*(0.3) + students[\"Barış Esen\"][1]*(0.3) + students[\"Barış Esen\"][2]*(0.4)\n",
    "grade3 = students[\"Esin Albakır\"][0]*(0.3) + students[\"Esin Albakır\"][1]*(0.3) + students[\"Esin Albakır\"][2]*(0.4)\n",
    "grade4 = students[\"Görkem Ünal\"][0]*(0.3) + students[\"Görkem Ünal\"][1]*(0.3) + students[\"Görkem Ünal\"][2]*(0.4)\n",
    "grade5 = students[\"Elif Aydın\"][0]*(0.3) + students[\"Elif Aydın\"][1]*(0.3) + students[\"Elif Aydın\"][2]*(0.4)\n",
    "\n",
    "passingGrade = [grade1,grade2,grade3, grade4, grade5]\n",
    "\n",
    "passingGrade.sort(reverse = True)\n",
    "\n",
    "passingGrade"
   ]
  },
  {
   "cell_type": "code",
   "execution_count": null,
   "metadata": {},
   "outputs": [],
   "source": []
  }
 ],
 "metadata": {
  "kernelspec": {
   "display_name": "Python 3",
   "language": "python",
   "name": "python3"
  },
  "language_info": {
   "codemirror_mode": {
    "name": "ipython",
    "version": 3
   },
   "file_extension": ".py",
   "mimetype": "text/x-python",
   "name": "python",
   "nbconvert_exporter": "python",
   "pygments_lexer": "ipython3",
   "version": "3.8.5"
  }
 },
 "nbformat": 4,
 "nbformat_minor": 4
}
